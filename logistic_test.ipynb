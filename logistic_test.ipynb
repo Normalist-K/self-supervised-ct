{
 "metadata": {
  "language_info": {
   "codemirror_mode": {
    "name": "ipython",
    "version": 3
   },
   "file_extension": ".py",
   "mimetype": "text/x-python",
   "name": "python",
   "nbconvert_exporter": "python",
   "pygments_lexer": "ipython3",
   "version": "3.6.12-final"
  },
  "orig_nbformat": 2,
  "kernelspec": {
   "name": "python3",
   "display_name": "Python 3",
   "language": "python"
  }
 },
 "nbformat": 4,
 "nbformat_minor": 2,
 "cells": [
  {
   "cell_type": "code",
   "execution_count": 3,
   "metadata": {},
   "outputs": [],
   "source": [
    "import os\n",
    "import argparse\n",
    "import torch\n",
    "import torchvision\n",
    "import torchvision.transforms as transforms\n",
    "import numpy as np\n",
    "from sklearn.model_selection import train_test_split\n",
    "from sklearn.metrics import confusion_matrix\n",
    "from sklearn.metrics import accuracy_score\n",
    "from sklearn.metrics import precision_score\n",
    "from sklearn.metrics import recall_score\n",
    "from sklearn.metrics import f1_score\n",
    "from sklearn.metrics import roc_auc_score\n",
    "from sklearn.metrics import classification_report\n",
    "\n",
    "from utils import yaml_config_hook\n",
    "\n",
    "from modules import SimCLR, LogisticRegression, get_resnet, EarlyStopping\n",
    "from modules.transformations import TransformsSimCLR"
   ]
  },
  {
   "cell_type": "code",
   "execution_count": 4,
   "metadata": {},
   "outputs": [],
   "source": [
    "MODEL_NUM = 5\n",
    "RESNET = 'resnet50'"
   ]
  },
  {
   "cell_type": "code",
   "execution_count": 5,
   "metadata": {},
   "outputs": [
    {
     "output_type": "stream",
     "name": "stdout",
     "text": [
      "cuda\n"
     ]
    }
   ],
   "source": [
    "parser = argparse.ArgumentParser(description=\"SimCLR\")\n",
    "config = yaml_config_hook(\"./config/config.yaml\")\n",
    "for k, v in config.items():\n",
    "    parser.add_argument(f\"--{k}\", default=v, type=type(v))\n",
    "\n",
    "args_str = '' \n",
    "args, _ = parser.parse_known_args(args=args_str)\n",
    "\n",
    "args.model_num = MODEL_NUM\n",
    "args.resnet = RESNET\n",
    "\n",
    "# args.device = torch.device(\"cuda\" if torch.cuda.is_available() else \"cpu\")\n",
    "args.device = torch.device('cuda')\n",
    "\n",
    "print(args.device)"
   ]
  },
  {
   "cell_type": "code",
   "execution_count": 6,
   "metadata": {},
   "outputs": [],
   "source": [
    "test_dataset = torchvision.datasets.ImageFolder(\n",
    "    '/home/opticho/source/SimCLR/datasets/dataset2/test', \n",
    "    transform=TransformsSimCLR(size=(args.image_size, args.image_size)).test_transform)"
   ]
  },
  {
   "cell_type": "code",
   "execution_count": 7,
   "metadata": {},
   "outputs": [
    {
     "output_type": "execute_result",
     "data": {
      "text/plain": [
       "Dataset ImageFolder\n",
       "    Number of datapoints: 835\n",
       "    Root location: /home/opticho/source/SimCLR/datasets/dataset2/test\n",
       "    StandardTransform\n",
       "Transform: Compose(\n",
       "               Resize(size=(224, 224), interpolation=PIL.Image.BILINEAR)\n",
       "               ToTensor()\n",
       "           )"
      ]
     },
     "metadata": {},
     "execution_count": 7
    }
   ],
   "source": [
    "test_dataset # [ [ [image], [label] ] * 835 ]"
   ]
  },
  {
   "cell_type": "code",
   "execution_count": 8,
   "metadata": {},
   "outputs": [],
   "source": [
    "test_loader = torch.utils.data.DataLoader(\n",
    "    test_dataset,\n",
    "    batch_size=args.logistic_batch_size,\n",
    "    shuffle=False,\n",
    "    drop_last=False,\n",
    "    num_workers=args.workers,\n",
    ")"
   ]
  },
  {
   "cell_type": "code",
   "execution_count": 9,
   "metadata": {},
   "outputs": [
    {
     "output_type": "execute_result",
     "data": {
      "text/plain": [
       "(('/home/opticho/source/SimCLR/datasets/dataset2/test/Covid/Covid0_1.png', 0),\n",
       " ('/home/opticho/source/SimCLR/datasets/dataset2/test/Others/Others9_7.png',\n",
       "  2))"
      ]
     },
     "metadata": {},
     "execution_count": 9
    }
   ],
   "source": [
    "test_loader.dataset.samples[0], test_loader.dataset.samples[834]"
   ]
  },
  {
   "cell_type": "code",
   "execution_count": 10,
   "metadata": {},
   "outputs": [],
   "source": [
    "encoder = get_resnet(args.resnet, pretrained=False)\n",
    "n_features = encoder.fc.in_features\n",
    "\n",
    "simclr_model = SimCLR(args, encoder, n_features)\n",
    "model_fp = os.path.join(\n",
    "    args.model_path, \"model{}.tar\".format(args.model_num)\n",
    ")\n",
    "simclr_model.load_state_dict(torch.load(model_fp, map_location=args.device.type))\n",
    "simclr_model.eval()\n",
    "simclr_model = simclr_model.to(args.device)"
   ]
  },
  {
   "cell_type": "code",
   "execution_count": 11,
   "metadata": {},
   "outputs": [],
   "source": [
    "n_classes = 3\n",
    "model = LogisticRegression(simclr_model.n_features, n_classes)\n",
    "model_saved = os.path.join(args.model_path, f\"downstream_{args.model_num}.tar\")\n",
    "model.load_state_dict(torch.load(model_saved, map_location=args.device.type))\n",
    "model = model.to(args.device)\n",
    "\n",
    "optimizer = torch.optim.Adam(model.parameters(), lr=3e-4)\n",
    "criterion = torch.nn.CrossEntropyLoss()"
   ]
  },
  {
   "cell_type": "code",
   "execution_count": 12,
   "metadata": {},
   "outputs": [],
   "source": [
    "def inference(loader, simclr_model, device):\n",
    "    feature_vector = []\n",
    "    labels_vector = []\n",
    "    for step, (x, y) in enumerate(loader):\n",
    "        x = x.to(device)\n",
    "\n",
    "        # get encoding\n",
    "        with torch.no_grad():\n",
    "            h, _, z, _ = simclr_model(x, x)\n",
    "\n",
    "        h = h.detach()\n",
    "\n",
    "        feature_vector.extend(h.cpu().detach().numpy())\n",
    "        labels_vector.extend(y.numpy())\n",
    "\n",
    "        # if step % 20 == 0:\n",
    "        #     print(f\"Step [{step}/{len(loader)}]\\t Computing features...\")\n",
    "\n",
    "    feature_vector = np.array(feature_vector)\n",
    "    labels_vector = np.array(labels_vector)\n",
    "    print(\"Features shape {}\".format(feature_vector.shape))\n",
    "    return feature_vector, labels_vector\n",
    "    \n",
    "def get_features_test(simclr_model, test_loader, device):\n",
    "    test_X, test_y = inference(test_loader, simclr_model, device)\n",
    "    return test_X, test_y"
   ]
  },
  {
   "cell_type": "code",
   "execution_count": 13,
   "metadata": {},
   "outputs": [],
   "source": [
    "def create_data_loaders_from_arrays_test(X_test, y_test, batch_size):\n",
    "    \n",
    "    test = torch.utils.data.TensorDataset(\n",
    "        torch.from_numpy(X_test), torch.from_numpy(y_test)\n",
    "    )\n",
    "    test_loader = torch.utils.data.DataLoader(\n",
    "        test, batch_size=batch_size, shuffle=False\n",
    "    )\n",
    "    return test_loader\n"
   ]
  },
  {
   "cell_type": "code",
   "execution_count": 14,
   "metadata": {},
   "outputs": [
    {
     "output_type": "stream",
     "name": "stdout",
     "text": [
      "Features shape (835, 2048)\n"
     ]
    }
   ],
   "source": [
    "(test_X, test_y) = get_features_test(\n",
    "    simclr_model, test_loader, args.device\n",
    ")\n",
    "\n",
    "arr_test_loader = create_data_loaders_from_arrays_test(\n",
    "    test_X, test_y, args.logistic_batch_size\n",
    ")"
   ]
  },
  {
   "cell_type": "code",
   "execution_count": 15,
   "metadata": {},
   "outputs": [],
   "source": [
    "def print_specificity(specificity):\n",
    "    print('\\t\\tspecificity')\n",
    "    print('')\n",
    "\n",
    "    print(f'       covid\\t{specificity[0]:.2f}')\n",
    "    print(f'     healthy\\t{specificity[1]:.2f}')\n",
    "    print(f'      others\\t{specificity[2]:.2f}')\n",
    "    print('')\n",
    "\n",
    "    macro_specificity = sum(specificity) / 3.0\n",
    "    print(f'   macro avg\\t{macro_specificity:.2f}')\n",
    "\n",
    "    weighted = [434/835, 152/835, 249/835] \n",
    "    weighted_specificity = weighted @ specificity\n",
    "    print(f'weighted avg\\t{weighted_specificity:.2f}')\n",
    "    print('')"
   ]
  },
  {
   "cell_type": "code",
   "execution_count": 34,
   "metadata": {
    "tags": []
   },
   "outputs": [
    {
     "output_type": "stream",
     "name": "stdout",
     "text": [
      "[FINAL]\t Loss: 0.42992962469105367\t Accuracy: 22.739583333333332\n"
     ]
    }
   ],
   "source": [
    "def test(args, loader, model, criterion, optimizer):\n",
    "    loss_epoch = 0\n",
    "    accuracy_epoch = 0\n",
    "    model.eval()\n",
    "    pred = []\n",
    "    true = []\n",
    "    soft = []\n",
    "    for step, (x, y) in enumerate(loader):\n",
    "        model.zero_grad()\n",
    "\n",
    "        x = x.to(args.device)\n",
    "        y = y.to(args.device)\n",
    "\n",
    "        outputs = model(x)\n",
    "        loss = criterion(outputs, y)\n",
    "\n",
    "        predicted = outputs.argmax(1)\n",
    "\n",
    "        softmax = torch.nn.Softmax(dim=1)\n",
    "        s = softmax(outputs).cpu().detach().tolist()\n",
    "        for i in range(len(s)):\n",
    "            soft.append(s[i])\n",
    "\n",
    "        preds = predicted.cpu().numpy()\n",
    "        labels = y.cpu().numpy()\n",
    "        preds = np.reshape(preds, (len(preds), 1))\n",
    "        labels = np.reshape(labels, (len(preds), 1))\n",
    "\n",
    "        for i in range(len(preds)):\n",
    "            pred.append(preds[i][0].item())\n",
    "            true.append(labels[i][0].item())\n",
    "        \n",
    "        acc = (predicted == y).sum().item() / y.size(0)\n",
    "        accuracy_epoch += acc\n",
    "\n",
    "        loss_epoch += loss.item()\n",
    "\n",
    "    return loss_epoch, accuracy_epoch, (pred, true, soft)\n",
    "\n",
    "loss_epoch, accuracy_epoch, result = test(\n",
    "    args, arr_test_loader, model, criterion, optimizer\n",
    ")\n",
    "print(\n",
    "    f\"[FINAL]\\t Loss: {loss_epoch / len(arr_test_loader)}\\t Accuracy: {accuracy_epoch}\"\n",
    ")"
   ]
  },
  {
   "cell_type": "code",
   "execution_count": 50,
   "metadata": {
    "tags": []
   },
   "outputs": [
    {
     "output_type": "stream",
     "name": "stdout",
     "text": [
      "0 0 0.9963 Covid0_1.png\n"
     ]
    }
   ],
   "source": [
    "import os\n",
    "import csv\n",
    "\n",
    "preds, true, soft = result\n",
    "images_path = test_loader.dataset.samples\n",
    "# images_path -> [ [images path, label] * 835 ]\n",
    "\n",
    "\n",
    "print(preds[0], true[0], round(soft[0][0], 4), os.path.basename(images_path[0][0]))\n",
    "\n",
    "\n",
    "with open(\"majority.csv\", \"w\") as f:\n",
    "    wr = csv.writer(f)\n",
    "    wr.writerow([\"file\", \"prob_0\", \"prob_1\", \"prob_2\", \"pred\", \"label\"])\n",
    "    for i in range(len(preds)):\n",
    "        f = os.path.basename(images_path[i][0])\n",
    "        prob_0 = round(soft[i][0], 6)\n",
    "        prob_1 = round(soft[i][1], 6)\n",
    "        prob_2 = round(soft[i][2], 6)\n",
    "        pred = preds[i]\n",
    "        label = true[i]\n",
    "        wr.writerow([f, prob_0, prob_1, prob_2, pred, label])"
   ]
  },
  {
   "cell_type": "code",
   "execution_count": 81,
   "metadata": {},
   "outputs": [],
   "source": []
  }
 ]
}