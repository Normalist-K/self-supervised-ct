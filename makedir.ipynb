{
 "metadata": {
  "language_info": {
   "codemirror_mode": {
    "name": "ipython",
    "version": 3
   },
   "file_extension": ".py",
   "mimetype": "text/x-python",
   "name": "python",
   "nbconvert_exporter": "python",
   "pygments_lexer": "ipython3",
   "version": "3.6.12-final"
  },
  "orig_nbformat": 2,
  "kernelspec": {
   "name": "python3",
   "display_name": "Python 3",
   "language": "python"
  }
 },
 "nbformat": 4,
 "nbformat_minor": 2,
 "cells": [
  {
   "cell_type": "code",
   "execution_count": 14,
   "metadata": {},
   "outputs": [
    {
     "output_type": "stream",
     "name": "stdout",
     "text": [
      "make directory ...t2(3)/test/Covid/all\nmake directory ...(3)/test/Healthy/all\nmake directory ...2(3)/test/Others/all\n"
     ]
    }
   ],
   "source": [
    "import os\n",
    "import shutil\n",
    "\n",
    "root = '/home/opticho/source/SimCLR/datasets/dataset2(3)/test'\n",
    "\n",
    "root_names = ['Covid', 'Healthy', 'Others']\n",
    "\n",
    "def cmkdir(d):\n",
    "    if not os.path.isdir(d):\n",
    "        os.mkdir(d)\n",
    "        print(f'make directory ...{d[-20:]}')\n",
    "\n",
    "root_dirs = {}\n",
    "for name in root_names:\n",
    "    dir_path = os.path.join(root, name)\n",
    "    root_dirs[name] = dir_path\n",
    "\n",
    "for root_name in root_names:\n",
    "    dir_list = os.listdir(root_dirs[root_name])\n",
    "    cmkdir(os.path.join(root_dirs[root_name], 'all'))\n",
    "    for dir_idx, dir_name in enumerate(dir_list):\n",
    "        if dir_name == 'all':\n",
    "            continue\n",
    "        file_path = os.path.join(root_dirs[root_name], dir_name)\n",
    "        files = os.listdir(file_path)\n",
    "        target_path = os.path.join(root_dirs[root_name], 'all')\n",
    "        for file_idx, file_name in enumerate(files):\n",
    "            f = os.path.join(file_path, file_name)\n",
    "            if f[-3:] != \"png\":\n",
    "                continue\n",
    "            f_copy = os.path.join(target_path, f'{root_name}_{dir_name}_{file_idx}.png')\n",
    "            shutil.move(f, f_copy)"
   ]
  },
  {
   "cell_type": "code",
   "execution_count": 15,
   "metadata": {},
   "outputs": [],
   "source": [
    "\n",
    "for root_name in root_names:\n",
    "    empty = os.listdir(root_dirs[root_name])\n",
    "    for d in empty: \n",
    "        d = os.path.join(root_dirs[root_name], d)\n",
    "        if os.path.isdir(d) and len(os.listdir(d)) == 0:\n",
    "            os.rmdir(d)\n",
    "    target_path = os.path.join(root_dirs[root_name], 'all')\n",
    "    files = os.listdir(target_path)\n",
    "    for f in files:\n",
    "        f = os.path.join(target_path, f)\n",
    "        shutil.move(f, root_dirs[root_name])\n",
    "    os.rmdir(target_path)"
   ]
  }
 ]
}